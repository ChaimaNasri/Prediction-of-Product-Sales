{
  "nbformat": 4,
  "nbformat_minor": 0,
  "metadata": {
    "colab": {
      "provenance": [],
      "authorship_tag": "ABX9TyPfVkmoNsNoeNyLDitdKlvQ",
      "include_colab_link": true
    },
    "kernelspec": {
      "name": "python3",
      "display_name": "Python 3"
    },
    "language_info": {
      "name": "python"
    }
  },
  "cells": [
    {
      "cell_type": "markdown",
      "metadata": {
        "id": "view-in-github",
        "colab_type": "text"
      },
      "source": [
        "<a href=\"https://colab.research.google.com/github/ChaimaNasri/Prediction-of-Product-Sales/blob/main/Prediction__of__Product__Sales.ipynb\" target=\"_parent\"><img src=\"https://colab.research.google.com/assets/colab-badge.svg\" alt=\"Open In Colab\"/></a>"
      ]
    },
    {
      "cell_type": "markdown",
      "source": [
        "# Prediction of Product Sales"
      ],
      "metadata": {
        "id": "DN_FMRaTKgvM"
      }
    },
    {
      "cell_type": "markdown",
      "source": [
        " >- Author: Chaima Nasri"
      ],
      "metadata": {
        "id": "--jf9N9wK-hj"
      }
    },
    {
      "cell_type": "markdown",
      "source": [
        "## Project overview"
      ],
      "metadata": {
        "id": "e1veBccfLSvj"
      }
    },
    {
      "cell_type": "markdown",
      "source": [
        "## Load and Inspect Data"
      ],
      "metadata": {
        "id": "1frP2WNwMJ9a"
      }
    },
    {
      "cell_type": "code",
      "source": [],
      "metadata": {
        "id": "zX_zKPusMdFu"
      },
      "execution_count": null,
      "outputs": []
    },
    {
      "cell_type": "markdown",
      "source": [
        "## Clean Data"
      ],
      "metadata": {
        "id": "jxgSJQKUMPBj"
      }
    },
    {
      "cell_type": "code",
      "source": [],
      "metadata": {
        "id": "d4U-cNFZMdxq"
      },
      "execution_count": null,
      "outputs": []
    },
    {
      "cell_type": "markdown",
      "source": [
        "## Exploratory Data Analysis"
      ],
      "metadata": {
        "id": "u9lqlfu6MTUz"
      }
    },
    {
      "cell_type": "code",
      "source": [],
      "metadata": {
        "id": "LpY9gJl8Met8"
      },
      "execution_count": null,
      "outputs": []
    },
    {
      "cell_type": "markdown",
      "source": [
        "## Feature Inspection"
      ],
      "metadata": {
        "id": "dSZdjldNMX58"
      }
    },
    {
      "cell_type": "code",
      "source": [],
      "metadata": {
        "id": "CuU7mD7rMfl7"
      },
      "execution_count": null,
      "outputs": []
    }
  ]
}